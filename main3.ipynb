{
 "cells": [
  {
   "cell_type": "code",
   "execution_count": 7,
   "metadata": {},
   "outputs": [],
   "source": [
    "import pandas as pd\n",
    "import sys\n",
    "from typing import Dict, Text\n",
    "\n",
    "import numpy as np\n",
    "import tensorflow as tf\n",
    "\n",
    "import tensorflow_datasets as tfds\n",
    "import tensorflow_recommenders as tfrs\n"
   ]
  },
  {
   "cell_type": "code",
   "execution_count": 9,
   "metadata": {},
   "outputs": [],
   "source": [
    "class MovieLensModel(tfrs.Model):\n",
    "  # We derive from a custom base class to help reduce boilerplate. Under the hood,\n",
    "  # these are still plain Keras Models.\n",
    "\n",
    "  def __init__(\n",
    "      self,\n",
    "      user_model: tf.keras.Model,\n",
    "      movie_model: tf.keras.Model,\n",
    "      task: tfrs.tasks.Retrieval):\n",
    "    super().__init__()\n",
    "\n",
    "    # Set up user and movie representations.\n",
    "    self.user_model = user_model\n",
    "    self.movie_model = movie_model\n",
    "\n",
    "    # Set up a retrieval task.\n",
    "    self.task = task\n",
    "\n",
    "  def compute_loss(self, features: Dict[Text, tf.Tensor], training=False) -> tf.Tensor:\n",
    "    # Define how the loss is computed.\n",
    "\n",
    "    user_embeddings = self.user_model(features[\"UserId\"])\n",
    "    movie_embeddings = self.movie_model(features[\"ItemId\"])\n",
    "\n",
    "    return self.task(user_embeddings, movie_embeddings)"
   ]
  },
  {
   "cell_type": "code",
   "execution_count": 8,
   "metadata": {},
   "outputs": [],
   "source": [
    "Ratings = pd.read_json('ratings.jsonl', lines=True)\n",
    "Content = pd.read_json('content.jsonl', lines=True)\n",
    "Target = pd.read_csv('targets.csv')\n"
   ]
  },
  {
   "cell_type": "code",
   "execution_count": 11,
   "metadata": {},
   "outputs": [
    {
     "name": "stderr",
     "output_type": "stream",
     "text": [
      "2023-11-16 17:25:25.410949: I tensorflow/compiler/xla/stream_executor/cuda/cuda_gpu_executor.cc:880] could not open file to read NUMA node: /sys/bus/pci/devices/0000:01:00.0/numa_node\n",
      "Your kernel may have been built without NUMA support.\n",
      "2023-11-16 17:25:25.412088: W tensorflow/core/common_runtime/gpu/gpu_device.cc:2211] Cannot dlopen some GPU libraries. Please make sure the missing libraries mentioned above are installed properly if you would like to use GPU. Follow the guide at https://www.tensorflow.org/install/gpu for how to download and setup the required libraries for your platform.\n",
      "Skipping registering GPU devices...\n"
     ]
    }
   ],
   "source": [
    "ratings_util = Ratings[[\"UserId\", \"ItemId\", \"Rating\"]]\n",
    "Ratings = tf.data.Dataset.from_tensor_slices(dict(ratings_util))\n",
    "content_util = Content[[\"ItemId\", \"Title\",\"Year\", \"Rated\", \"Released\", \"Runtime\", \"Genre\", \"Director\"]]\n",
    "Content = tf.data.Dataset.from_tensor_slices(dict(content_util))"
   ]
  },
  {
   "cell_type": "code",
   "execution_count": 12,
   "metadata": {},
   "outputs": [],
   "source": [
    "ratings = Ratings.map(lambda x: {\n",
    "    \"ItemId\": x[\"ItemId\"],\n",
    "    \"UserId\": x[\"UserId\"]\n",
    "})\n",
    "\n",
    "movies = Content.map(lambda x: x[\"ItemId\"])"
   ]
  },
  {
   "cell_type": "code",
   "execution_count": 13,
   "metadata": {},
   "outputs": [],
   "source": [
    "user_ids_vocabulary = tf.keras.layers.StringLookup(mask_token=None)\n",
    "user_ids_vocabulary.adapt(ratings.map(lambda x: x[\"UserId\"]))"
   ]
  },
  {
   "cell_type": "code",
   "execution_count": 14,
   "metadata": {},
   "outputs": [],
   "source": [
    "movie_titles_vocabulary = tf.keras.layers.StringLookup(mask_token=None)\n",
    "movie_titles_vocabulary.adapt(movies)"
   ]
  },
  {
   "cell_type": "code",
   "execution_count": 15,
   "metadata": {},
   "outputs": [
    {
     "name": "stdout",
     "output_type": "stream",
     "text": [
      "WARNING:tensorflow:vocab_size is deprecated, please use vocabulary_size.\n"
     ]
    }
   ],
   "source": [
    "# Define user and movie models.\n",
    "user_model = tf.keras.Sequential([\n",
    "    user_ids_vocabulary,\n",
    "    tf.keras.layers.Embedding(user_ids_vocabulary.vocab_size(), 64)\n",
    "])"
   ]
  },
  {
   "cell_type": "code",
   "execution_count": 16,
   "metadata": {},
   "outputs": [
    {
     "name": "stdout",
     "output_type": "stream",
     "text": [
      "WARNING:tensorflow:vocab_size is deprecated, please use vocabulary_size.\n"
     ]
    }
   ],
   "source": [
    "movie_model = tf.keras.Sequential([\n",
    "    movie_titles_vocabulary,\n",
    "    tf.keras.layers.Embedding(movie_titles_vocabulary.vocab_size(), 64)\n",
    "])"
   ]
  },
  {
   "cell_type": "code",
   "execution_count": 17,
   "metadata": {},
   "outputs": [],
   "source": [
    "# Define your objectives.\n",
    "task = tfrs.tasks.Retrieval(metrics=tfrs.metrics.FactorizedTopK(\n",
    "    movies.batch(128).map(movie_model)\n",
    "  )\n",
    ")"
   ]
  },
  {
   "cell_type": "code",
   "execution_count": 18,
   "metadata": {},
   "outputs": [],
   "source": [
    "# Create a retrieval model.\n",
    "model = MovieLensModel(user_model, movie_model, task)\n",
    "model.compile(optimizer=tf.keras.optimizers.Adagrad(0.5))\n"
   ]
  },
  {
   "cell_type": "code",
   "execution_count": 19,
   "metadata": {},
   "outputs": [
    {
     "name": "stdout",
     "output_type": "stream",
     "text": [
      "Epoch 1/3\n",
      "162/162 [==============================] - 428s 3s/step - factorized_top_k/top_1_categorical_accuracy: 8.4884e-05 - factorized_top_k/top_5_categorical_accuracy: 0.0026 - factorized_top_k/top_10_categorical_accuracy: 0.0054 - factorized_top_k/top_50_categorical_accuracy: 0.0236 - factorized_top_k/top_100_categorical_accuracy: 0.0416 - loss: 33876.4979 - regularization_loss: 0.0000e+00 - total_loss: 33876.4979\n",
      "Epoch 2/3\n",
      "162/162 [==============================] - 369s 2s/step - factorized_top_k/top_1_categorical_accuracy: 0.0064 - factorized_top_k/top_5_categorical_accuracy: 0.0354 - factorized_top_k/top_10_categorical_accuracy: 0.0428 - factorized_top_k/top_50_categorical_accuracy: 0.0686 - factorized_top_k/top_100_categorical_accuracy: 0.0877 - loss: 33941.7671 - regularization_loss: 0.0000e+00 - total_loss: 33941.7671\n",
      "Epoch 3/3\n",
      "162/162 [==============================] - 382s 2s/step - factorized_top_k/top_1_categorical_accuracy: 0.0208 - factorized_top_k/top_5_categorical_accuracy: 0.0770 - factorized_top_k/top_10_categorical_accuracy: 0.0959 - factorized_top_k/top_50_categorical_accuracy: 0.1562 - factorized_top_k/top_100_categorical_accuracy: 0.1945 - loss: 28784.2090 - regularization_loss: 0.0000e+00 - total_loss: 28784.2090\n"
     ]
    },
    {
     "data": {
      "text/plain": [
       "<keras.src.callbacks.History at 0x7fcf951d41f0>"
      ]
     },
     "execution_count": 19,
     "metadata": {},
     "output_type": "execute_result"
    }
   ],
   "source": [
    "# Train for 3 epochs.\n",
    "model.fit(ratings.batch(4096), epochs=3)"
   ]
  },
  {
   "cell_type": "code",
   "execution_count": 31,
   "metadata": {},
   "outputs": [
    {
     "data": {
      "text/plain": [
       "<tensorflow_recommenders.layers.factorized_top_k.BruteForce at 0x7fcf951d7280>"
      ]
     },
     "execution_count": 31,
     "metadata": {},
     "output_type": "execute_result"
    }
   ],
   "source": [
    "# Use brute-force search to set up retrieval using the trained representations.\n",
    "index = tfrs.layers.factorized_top_k.BruteForce(model.user_model)\n",
    "index.index_from_dataset(\n",
    "    movies.batch(100).map(lambda title: (title, model.movie_model(title))))\n"
   ]
  },
  {
   "cell_type": "code",
   "execution_count": 65,
   "metadata": {},
   "outputs": [],
   "source": [
    "def printaResposta(Target, index):\n",
    "    uniqueUsers = Target['UserId'].unique()\n",
    "    csv_filename = 'output.csv'\n",
    "    with open(csv_filename, 'w+') as csv_file:\n",
    "        # Escrever o cabeçalho\n",
    "        csv_file.write('UserId,ItemId\\n')\n",
    "        # print(\"UserId,ItemId\")\n",
    "        for user in uniqueUsers:\n",
    "            _, titles = index(np.array([user]), k=100)\n",
    "            recommendations = np.array(titles[0, :100])\n",
    "            recommendations = [item.decode('utf-8') for item in recommendations]\n",
    "            for rec in recommendations:\n",
    "                csv_file.write(user +','+rec+ '\\n')\n",
    "                # print(user+','+rec)"
   ]
  },
  {
   "cell_type": "code",
   "execution_count": 66,
   "metadata": {},
   "outputs": [],
   "source": [
    "printaResposta(Target, index)"
   ]
  },
  {
   "cell_type": "code",
   "execution_count": 35,
   "metadata": {},
   "outputs": [
    {
     "name": "stdout",
     "output_type": "stream",
     "text": [
      "Top 3 recommendations for user c4ca4238a0: ['91766eac45', '7f40c37991', '9115120446', 'b5f293e3f4', '2fd0adbb9d', 'd0daf9fa5d', 'c4584e0af4', 'e073da97f6', '01a1674741', '8727f95452', 'f05fb18fe7', '4f66cc3378', '98fc59b03f', 'cb5a7896b8', 'd24a75007a', '507981f7ce', 'b4205cecc7', '2d2c68f273', '89c86ad4bb', 'de8c722cd9', '1906277065', '02d10cb1b3', '948e6832fc', 'fe725df7db', '762e2a4a6b', '7ec76c268b', 'f25dfcdaaa', '828c20f94b', 'b58b2000c1', '981a5b345d', '0bdd128ea2', '6ecc305295', 'cbdadb0e00', '4ec485f5d3', '8d1bb8f3db', '53fc77d38d', '4646d64c74', '9c28a6c7e0', 'ed1dd7b5e0', '770aab654c', '69cc3755fe', 'cac4fd72a8', 'c1bac1d55e', '7bcc2cda6f', 'e201b119d0', 'c97cb0ab01', 'c3bb921443', 'e5112e4098', '236afad3d6', '28cd2832ff', '331f53b3b5', '50ab04b31f', 'e560c33025', '26519932e1', '8306baf487', '046abd1a53', '1514742238', '5b70cbefdd', '8feb35769b', 'a49ceb96ea', 'b02596b935', '0bbb0307ab', '95ad4d4e2a', '4582a9f881', '45b34fa033', '8cefcfbbb1', 'e121c55253', '324a87b636', '12bfefc95d', '292f7febda', '40c2e467d7', '0b6edbf9bd', '4322ecd91e', '111c15bbb9', 'eb11cf70a3', 'e2ea9e1f3d', 'a38dfc5ed9', '66cfbed075', 'e7c09053f6', 'c2efe20019', 'acb85c6642', '9c087e4665', '01577ad692', '844cb84d5a', 'ed6162582a', 'd946851332', '01374b2a11', 'abb6905a19', '8090ffac46', 'ee5fa6ca72', 'c63068e254', 'b8aba7c2c2', '2e3a1e3ff7', '85a1109b7b', '23b9d39515', '74559ea278', 'b73763220b', 'fb061534db', '6249c88d14', '8c5cbf4013']\n"
     ]
    }
   ],
   "source": [
    "# Get some recommendations.\n",
    "_, titles = index(np.array([\"c4ca4238a0\"]), k=100)\n",
    "recommendations = np.array(titles[0, :100])\n",
    "recommendations = [item.decode('utf-8') for item in recommendations]\n",
    "print(f\"Top 3 recommendations for user c4ca4238a0: {recommendations}\")"
   ]
  }
 ],
 "metadata": {
  "kernelspec": {
   "display_name": "Python 3",
   "language": "python",
   "name": "python3"
  },
  "language_info": {
   "codemirror_mode": {
    "name": "ipython",
    "version": 3
   },
   "file_extension": ".py",
   "mimetype": "text/x-python",
   "name": "python",
   "nbconvert_exporter": "python",
   "pygments_lexer": "ipython3",
   "version": "3.10.12"
  }
 },
 "nbformat": 4,
 "nbformat_minor": 2
}
