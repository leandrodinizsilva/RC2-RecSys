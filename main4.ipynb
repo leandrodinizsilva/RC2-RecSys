{
 "cells": [
  {
   "cell_type": "code",
   "execution_count": 1,
   "metadata": {},
   "outputs": [],
   "source": [
    "import pandas as pd\n",
    "import sys"
   ]
  },
  {
   "cell_type": "code",
   "execution_count": 2,
   "metadata": {},
   "outputs": [],
   "source": [
    "Ratings = pd.read_json('ratings.jsonl', lines=True)\n",
    "Content = pd.read_json('content.jsonl', lines=True)\n",
    "Target = pd.read_csv('targets.csv')"
   ]
  },
  {
   "cell_type": "code",
   "execution_count": 6,
   "metadata": {},
   "outputs": [],
   "source": [
    "df_sorted = Content.sort_values(by='imdbVotes', ascending=False)\n",
    "\n",
    "# Get the top 100 rows\n",
    "top_100 = df_sorted.head(100)"
   ]
  },
  {
   "cell_type": "code",
   "execution_count": 8,
   "metadata": {},
   "outputs": [],
   "source": [
    "uniqueUsers = Target['UserId'].unique()\n",
    "csv_filename = 'output.csv'\n",
    "with open(csv_filename, 'w+') as csv_file:\n",
    "    # Escrever o cabeçalho\n",
    "    csv_file.write('UserId,ItemId\\n')\n",
    "    # print(\"UserId,ItemId\")\n",
    "    for user in uniqueUsers:\n",
    "        for rec in top_100[\"ItemId\"]:\n",
    "            csv_file.write(user +','+rec+ '\\n')\n",
    "            # print(user+','+rec)"
   ]
  }
 ],
 "metadata": {
  "kernelspec": {
   "display_name": "Python 3",
   "language": "python",
   "name": "python3"
  },
  "language_info": {
   "codemirror_mode": {
    "name": "ipython",
    "version": 3
   },
   "file_extension": ".py",
   "mimetype": "text/x-python",
   "name": "python",
   "nbconvert_exporter": "python",
   "pygments_lexer": "ipython3",
   "version": "3.10.12"
  }
 },
 "nbformat": 4,
 "nbformat_minor": 2
}
